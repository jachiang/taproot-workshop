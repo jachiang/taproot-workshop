{
 "cells": [
  {
   "cell_type": "markdown",
   "metadata": {},
   "source": [
    "#### _Programming Exercise 2.4.1:_ Compute a taptweak from a taptree"
   ]
  },
  {
   "cell_type": "code",
   "execution_count": null,
   "metadata": {},
   "outputs": [],
   "source": [
    "TAPSCRIPT_VER = bytes([0xc0]) # See TapScript chapter for more details.\n",
    "internal_pubkey = ECPubKey()\n",
    "internal_pubkey.set(bytes.fromhex('03af455f4989d122e9185f8c351dbaecd13adca3eef8a9d38ef8ffed6867e342e3'))\n",
    "\n",
    "# Derive pay-to-pubkey scripts\n",
    "privkeyA, pubkeyA = generate_key_pair()\n",
    "privkeyB, pubkeyB = generate_key_pair()\n",
    "privkeyC, pubkeyC = generate_key_pair()\n",
    "scriptA = CScript([pubkeyA.get_bytes(), OP_CHECKSIG])\n",
    "scriptB = CScript([pubkeyB.get_bytes(), OP_CHECKSIG])\n",
    "scriptC = CScript([pubkeyC.get_bytes(), OP_CHECKSIG])\n",
    "\n",
    "# Method: Returns Tagged Hash\n",
    "def tagged_hash(tag, input_data):\n",
    "    data = sha256(tag.encode('utf-8'))\n",
    "    data += data\n",
    "    data += input_data\n",
    "    return sha256(data)\n",
    "\n",
    "# Method: Returns TapBranch hash\n",
    "def tapbranch(taggedhash_left, taggedhash_right):\n",
    "    if taggedhash_left > taggedhash_right:\n",
    "        taggedhash_left, taggedhash_right = taggedhash_right, taggedhash_left\n",
    "    return tagged_hash(\"TapBranch\", taggedhash_left + taggedhash_right)\n",
    "\n",
    "# 1) Compute TapLeafs A, B and C\n",
    "# Method: ser_string(data) is a function which adds compactsize to input data.\n",
    "hash_inputA = TAPSCRIPT_VER + ser_string(scriptA)\n",
    "hash_inputB = TAPSCRIPT_VER + ser_string(scriptB)\n",
    "hash_inputC = TAPSCRIPT_VER + ser_string(scriptC)\n",
    "taggedhash_leafA = tagged_hash(\"TapLeaf\", hash_inputA)\n",
    "taggedhash_leafB = tagged_hash(\"TapLeaf\", hash_inputB)\n",
    "taggedhash_leafC = tagged_hash(\"TapLeaf\", hash_inputC)\n",
    "\n",
    "# 2) Compute Internal node TapBranch AB\n",
    "internal_nodeAB = tapbranch(taggedhash_leafA, taggedhash_leafB)\n",
    "\n",
    "# 3) Compute TapTweak\n",
    "rootABC = tapbranch(internal_nodeAB, taggedhash_leafC)\n",
    "taptweak = tagged_hash(\"TapTweak\", internal_pubkey.get_bytes() + rootABC)\n",
    "print(\"TapTweak:\", taptweak.hex())\n",
    "\n",
    "# 4) Derive the segwit output address\n",
    "taproot_pubkey_b = internal_pubkey.tweak_add(taptweak).get_bytes()\n",
    "taproot_pubkey_v1 = bytes([taproot_pubkey_b[0] & 1]) + taproot_pubkey_b[1:]\n",
    "segwit_address = program_to_witness(1, taproot_pubkey_v1)\n",
    "print('Segwit address:', segwit_address)"
   ]
  },
  {
   "cell_type": "markdown",
   "metadata": {},
   "source": [
    "#### _Programming Exercise 2.4.5_ - Constructing a taproot output from a taptree"
   ]
  },
  {
   "cell_type": "code",
   "execution_count": null,
   "metadata": {},
   "outputs": [],
   "source": [
    "# Generate key pairs for internal pubkey and pay-to-pubkey tapscripts\n",
    "privkey_internal, pubkey_internal = generate_key_pair()\n",
    "\n",
    "privkeyA, pubkeyA = generate_key_pair()\n",
    "privkeyB, pubkeyB = generate_key_pair()\n",
    "privkeyC, pubkeyC = generate_key_pair()\n",
    "privkeyD, pubkeyD = generate_key_pair()\n",
    "\n",
    "# Construct Pay-to-Pubkey TapLeafs and Taptree.\n",
    "TapLeafA = TapLeaf()\n",
    "TapLeafB = TapLeaf()\n",
    "TapLeafC = TapLeaf()\n",
    "TapLeafD = TapLeaf()\n",
    "TapLeafA.construct_pk(pubkeyA)\n",
    "TapLeafB.construct_pk(pubkeyB)\n",
    "TapLeafC.construct_pk(pubkeyC)\n",
    "TapLeafD.construct_pk(pubkeyD)\n",
    "\n",
    "# Create a Taptree with tapleafs and huffman constructor.\n",
    "# Method: TapTree.huffman_constructor(tuple_list)\n",
    "taptree = TapTree()\n",
    "taptree.key = pubkey_internal\n",
    "taptree.huffman_constructor([(1, TapLeafA), (1, TapLeafB), (1, TapLeafC), (1, TapLeafD)])\n",
    "\n",
    "# Generate taproot tree with the `construct()` method, then use the taproot bytes to create a segwit address\n",
    "taproot_script, tweak, control_map = taptree.construct()\n",
    "program = bytes(taproot_script[2:])\n",
    "address = program_to_witness(1, program)\n",
    "print(\"Address: {}\".format(address))"
   ]
  },
  {
   "cell_type": "markdown",
   "metadata": {},
   "source": [
    "#### _Programming Exercise 2.4.8:_ Sign the transaction for `TapLeafA` "
   ]
  },
  {
   "cell_type": "code",
   "execution_count": null,
   "metadata": {},
   "outputs": [],
   "source": [
    "# Generate the Taproot Signature Hash for signing\n",
    "sighashA = TaprootSignatureHash(spending_tx,\n",
    "                               [tx.vout[0]],\n",
    "                               SIGHASH_ALL_TAPROOT,\n",
    "                               input_index=0,\n",
    "                               scriptpath=True,\n",
    "                               tapscript=TapLeafA.script)\n",
    "\n",
    "signatureA = privkeyA.sign_schnorr(sighashA)\n",
    "\n",
    "print(\"Signature for TapLeafA: {}\\n\".format(signatureA.hex()))"
   ]
  },
  {
   "cell_type": "markdown",
   "metadata": {},
   "source": [
    "#### _Programming Exercise  2.4.9:_ Construct the witness, add it to the transaction and verify mempool acceptance"
   ]
  },
  {
   "cell_type": "code",
   "execution_count": null,
   "metadata": {},
   "outputs": [],
   "source": [
    "# Tip: Witness stack for script path - [satisfying elements for tapscript] [TapLeaf.script] [controlblock]\n",
    "# Tip: Controlblock for a tapscript in control_map[TapLeaf.script]\n",
    "witness = CScriptWitness()\n",
    "witness.stack = [signatureA, TapLeafA.script, control_map[TapLeafA.script]]\n",
    "witness_in = CTxInWitness()\n",
    "witness_in.scriptWitness = witness\n",
    "spending_tx.wit.vtxinwit.append(witness_in)\n",
    "\n",
    "# Test mempool acceptance\n",
    "assert node.test_transaction(spending_tx)\n",
    "print(\"Success!\")"
   ]
  }
 ],
 "metadata": {
  "kernelspec": {
   "display_name": "Python 3",
   "language": "python",
   "name": "python3"
  },
  "language_info": {
   "codemirror_mode": {
    "name": "ipython",
    "version": 3
   },
   "file_extension": ".py",
   "mimetype": "text/x-python",
   "name": "python",
   "nbconvert_exporter": "python",
   "pygments_lexer": "ipython3",
   "version": "3.6.5"
  }
 },
 "nbformat": 4,
 "nbformat_minor": 2
}

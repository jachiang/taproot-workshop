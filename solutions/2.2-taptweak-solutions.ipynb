{
 "cells": [
  {
   "cell_type": "markdown",
   "metadata": {},
   "source": [
    "#### _Programming Exercise 2.2.2:_  Signing with a tweaked 2-of-2 MuSig key pair"
   ]
  },
  {
   "cell_type": "code",
   "execution_count": null,
   "metadata": {},
   "outputs": [],
   "source": [
    "# Generate key pairs\n",
    "privkey1, pubkey1 = generate_key_pair()\n",
    "privkey2, pubkey2 = generate_key_pair()\n",
    "\n",
    "# Create an aggregate MuSig pubkey\n",
    "c_map, agg_pubkey = generate_musig_key([pubkey1, pubkey2])\n",
    "\n",
    "# Apply challenge factors to keys\n",
    "privkey1_c = privkey1 * c_map[pubkey1]\n",
    "privkey2_c = privkey2 * c_map[pubkey2]\n",
    "pubkey1_c = pubkey1 * c_map[pubkey1]\n",
    "pubkey2_c = pubkey2 * c_map[pubkey2]\n",
    "\n",
    "# Tweak musig public key\n",
    "# Method: ECPubKey.tweak_add()\n",
    "tweak = random.randrange(1, SECP256K1_ORDER)\n",
    "agg_pubkey_tweaked = agg_pubkey.tweak_add(tweak)\n",
    "\n",
    "# Nonce generation & aggregation\n",
    "# Remember to negate the individual nonce values if required\n",
    "# Method: aggregate_schnorr_nonces()\n",
    "k1 = generate_schnorr_nonce()\n",
    "k2 = generate_schnorr_nonce()\n",
    "R1 = k1.get_pubkey()\n",
    "R2 = k2.get_pubkey()\n",
    "R_agg, negated = aggregate_schnorr_nonces([R1, R2])\n",
    "if negated:\n",
    "    k1.negate()\n",
    "    k2.negate()\n",
    "\n",
    "# Signing and signature aggregation\n",
    "msg = sha256(b'msg')\n",
    "\n",
    "# One person must tweak keys\n",
    "privkey1_c_tweaked = privkey1_c.add(tweak)\n",
    "\n",
    "# Sign individually and then aggregate signatures\n",
    "# Method: sign_musig(private_key, nonce_key, nonce_point, public_key, msg)\n",
    "# Method: aggregate_musig_signatures(signature_list)\n",
    "s1 = sign_musig(privkey1_c_tweaked, k1, R_agg, agg_pubkey_tweaked, msg)\n",
    "s2 = sign_musig(privkey2_c, k2, R_agg, agg_pubkey_tweaked, msg)\n",
    "sig_agg = aggregate_musig_signatures([s1, s2], R_agg)\n",
    "\n",
    "assert agg_pubkey_tweaked.verify_schnorr(sig_agg, msg)\n",
    "print(\"Success!\")"
   ]
  },
  {
   "cell_type": "markdown",
   "metadata": {},
   "source": [
    "#### _Programming Exercise 2.2.5:_ Construct taproot output with tweaked public key"
   ]
  },
  {
   "cell_type": "code",
   "execution_count": null,
   "metadata": {},
   "outputs": [],
   "source": [
    "# Example key pair\n",
    "privkey = ECKey().set(102118636618570133408735518698955378316807974995033705330357303547139065928052, True)\n",
    "internal_pubkey = privkey.get_pubkey()\n",
    "\n",
    "# Example tweak\n",
    "taptweak = bytes.fromhex('2a2fb476ec9962f262ff358800db0e7364287340db73e5e48db36d1c9f374e30')\n",
    "\n",
    "# Tweak the public key\n",
    "# Method: use tweak_add()\n",
    "taproot_pubkey = internal_pubkey.tweak_add(taptweak)\n",
    "taproot_pubkey_b = taproot_pubkey.get_bytes()\n",
    "\n",
    "# Derive the bech32 address\n",
    "# Tip: set the first byte of taproot_pubkey to 0 or 1 and then call program_to_witness(version_int, pubkey_bytes)\n",
    "taproot_pubkey_v1 = bytes([taproot_pubkey_b[0] & 1]) + taproot_pubkey_b[1:]\n",
    "address = program_to_witness(1, taproot_pubkey_v1)\n",
    "\n",
    "assert address == \"bcrt1pq9lku0vuddzvcte8yvt3xct0dk6cjqeq2yzqp3vwpvh2e8afqpvqqyftl09\"\n",
    "print(\"Success! Address: {}\".format(address))"
   ]
  },
  {
   "cell_type": "markdown",
   "metadata": {},
   "source": [
    "#### _Programming Exercise 2.2.8:_ Spend taproot output with key path"
   ]
  },
  {
   "cell_type": "code",
   "execution_count": null,
   "metadata": {},
   "outputs": [],
   "source": [
    "# Sign transaction with tweaked private key\n",
    "# Method: TaprootSignatureHash(tx, output_list, hash_type=int, input_index=int, scriptpath=bool)\n",
    "sighash = TaprootSignatureHash(spending_tx, [tx.vout[0]], SIGHASH_ALL_TAPROOT, input_index=0)\n",
    "tweaked_privkey = privkey.add(taptweak)\n",
    "sig = tweaked_privkey.sign_schnorr(sighash)\n",
    "\n",
    "# Construct transaction witness\n",
    "witness = CScriptWitness()\n",
    "witness.stack.append(sig)\n",
    "witness_in = CTxInWitness()\n",
    "witness_in.scriptWitness = witness\n",
    "spending_tx.wit.vtxinwit.append(witness_in)\n",
    "\n",
    "# Test mempool acceptance\n",
    "assert node.test_transaction(spending_tx)\n",
    "print(\"Success!\")"
   ]
  }
 ],
 "metadata": {
  "kernelspec": {
   "display_name": "Python 3",
   "language": "python",
   "name": "python3"
  },
  "language_info": {
   "codemirror_mode": {
    "name": "ipython",
    "version": 3
   },
   "file_extension": ".py",
   "mimetype": "text/x-python",
   "name": "python",
   "nbconvert_exporter": "python",
   "pygments_lexer": "ipython3",
   "version": "3.6.5"
  }
 },
 "nbformat": 4,
 "nbformat_minor": 2
}

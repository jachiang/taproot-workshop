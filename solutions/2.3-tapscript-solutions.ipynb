{
 "cells": [
  {
   "cell_type": "markdown",
   "metadata": {},
   "source": [
    "#### 2.3.5 _Programming Exercise:_ Generate a 2-of-2 `csahasholder` tapscript"
   ]
  },
  {
   "cell_type": "code",
   "execution_count": null,
   "metadata": {},
   "outputs": [],
   "source": [
    "# Generate key pairs\n",
    "privkey1, pubkey1 = generate_key_pair()\n",
    "privkey2, pubkey2 = generate_key_pair()\n",
    "\n",
    "print(\"pubkey1: {}\".format(pubkey1.get_bytes().hex()))\n",
    "print(\"pubkey2: {}\\n\".format(pubkey1.get_bytes().hex()))\n",
    "\n",
    "# Method: 32B preimage - sha256(bytes)\n",
    "# Method: 20B digest - hashlib.new('ripemd160', bytes).digest()\n",
    "secret = b'secret'\n",
    "preimage = sha256(secret)\n",
    "digest = hashlib.new('ripemd160', preimage).digest()\n",
    "delay = 20\n",
    "\n",
    "# Construct Tapscript\n",
    "csahasholder_tapscript = TapLeaf()\n",
    "csahasholder_tapscript.construct_csahasholder(2, [pubkey1, pubkey2], digest, delay)\n",
    "print(\"Descriptor:\", csahasholder_tapscript.desc, \"\\n\")\n",
    "\n",
    "print(\"Tapscript operations:\")\n",
    "for op in csahasholder_tapscript.script:\n",
    "    print(op.hex()) if isinstance(op, bytes) else print(op)\n",
    "\n",
    "print(\"\\nSatisfying witness elements:\")\n",
    "for element, value in csahasholder_tapscript.sat:\n",
    "    print(\"{}, {}\".format(element, value.hex()))"
   ]
  },
  {
   "cell_type": "markdown",
   "metadata": {},
   "source": [
    "#### _2.3.6 Programming Exercise:_ Compute the taptweak from a tapscript"
   ]
  },
  {
   "cell_type": "code",
   "execution_count": null,
   "metadata": {},
   "outputs": [],
   "source": [
    "def tagged_hash(tag, input_data):\n",
    "    data = sha256(tag.encode('utf-8'))\n",
    "    data += data\n",
    "    data += input_data\n",
    "    return sha256(data)\n",
    "\n",
    "privkey_internal, pubkey_internal = generate_key_pair()\n",
    "\n",
    "# Method: ser_string(Cscript) prepends compact size.\n",
    "TAPSCRIPT_VER = bytes([0xc0])\n",
    "tapleaf = tagged_hash(\"TapLeaf\", TAPSCRIPT_VER + ser_string(csahasholder_tapscript.script))\n",
    "taptweak = tagged_hash(\"TapTweak\", pubkey_internal.get_bytes() + tapleaf)\n",
    "print(\"Your constructed taptweak is: {}.\".format(taptweak.hex()))"
   ]
  },
  {
   "cell_type": "markdown",
   "metadata": {},
   "source": [
    "#### _Programming Exercise 2.3.11:_ Sign the transaction"
   ]
  },
  {
   "cell_type": "code",
   "execution_count": null,
   "metadata": {},
   "outputs": [],
   "source": [
    "# Generate the Taproot Signature Hash for signing\n",
    "sighash = TaprootSignatureHash(spending_tx,\n",
    "                               [tx.vout[0]],\n",
    "                               SIGHASH_ALL_TAPROOT,\n",
    "                               input_index=0,\n",
    "                               scriptpath=True,\n",
    "                               tapscript=csahasholder_tapscript.script)\n",
    "\n",
    "# Sign with both privkeys\n",
    "signature1 = privkey1.sign_schnorr(sighash)\n",
    "signature2 = privkey2.sign_schnorr(sighash)\n",
    "\n",
    "print(\"Signature1: {}\".format(signature1.hex()))\n",
    "print(\"Signature2: {}\".format(signature2.hex()))"
   ]
  },
  {
   "cell_type": "markdown",
   "metadata": {},
   "source": [
    "#### _Programming Exercise 2.3.12:_ Add the witness and test acceptance of the transaction"
   ]
  },
  {
   "cell_type": "code",
   "execution_count": null,
   "metadata": {},
   "outputs": [],
   "source": [
    "# Construct transaction witness\n",
    "# Tip: Witness stack for script path - [satisfying elements for tapscript] [TapLeaf.script] [controlblock]\n",
    "# Tip: Controlblock for a tapscript in control_map[TapLeaf.script]\n",
    "witness = CScriptWitness()\n",
    "witness.stack = [preimage, signature2, signature1, csahasholder_tapscript.script, control_map[csahasholder_tapscript.script]]\n",
    "witness_in = CTxInWitness()\n",
    "witness_in.scriptWitness = witness\n",
    "\n",
    "# vtxinwit is a list of the witness data(i.e. signatures etc.)\n",
    "spending_tx.wit.vtxinwit.append(witness_in)\n",
    "\n",
    "print(\"Spending transaction:\\n{}\\n\".format(spending_tx))\n",
    "\n",
    "# Test mempool acceptance with and without delay\n",
    "assert not node.test_transaction(spending_tx)\n",
    "node.generate(delay)\n",
    "assert node.test_transaction(spending_tx)\n",
    "\n",
    "print(\"Success!\")"
   ]
  }
 ],
 "metadata": {
  "kernelspec": {
   "display_name": "Python 3",
   "language": "python",
   "name": "python3"
  },
  "language_info": {
   "codemirror_mode": {
    "name": "ipython",
    "version": 3
   },
   "file_extension": ".py",
   "mimetype": "text/x-python",
   "name": "python",
   "nbconvert_exporter": "python",
   "pygments_lexer": "ipython3",
   "version": "3.6.5"
  }
 },
 "nbformat": 4,
 "nbformat_minor": 2
}
